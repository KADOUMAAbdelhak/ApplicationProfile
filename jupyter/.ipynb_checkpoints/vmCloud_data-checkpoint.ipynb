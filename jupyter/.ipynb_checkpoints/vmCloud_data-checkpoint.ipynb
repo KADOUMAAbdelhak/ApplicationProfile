{
 "cells": [
  {
   "cell_type": "code",
   "execution_count": 27,
   "id": "97946a85-26d4-4991-8419-149692565330",
   "metadata": {},
   "outputs": [],
   "source": [
    "# Import necessary libraries\n",
    "import pandas as pd\n",
    "import numpy as np\n",
    "import matplotlib.pyplot as plt\n",
    "from sklearn.preprocessing import MinMaxScaler\n",
    "from tensorflow.keras.models import Sequential\n",
    "from tensorflow.keras.layers import Dense, LSTM"
   ]
  },
  {
   "cell_type": "code",
   "execution_count": 28,
   "id": "e9aeb061-4cd0-4edd-a095-8ced64bca0fd",
   "metadata": {},
   "outputs": [
    {
     "name": "stdout",
     "output_type": "stream",
     "text": [
      "                  timestamp  cpu_usage\n",
      "454771  2023-01-01 00:00:09  63.282078\n",
      "969844  2023-01-01 00:00:15  30.719806\n",
      "898414  2023-01-01 00:00:31  14.019569\n",
      "197262  2023-01-01 00:00:36  93.148608\n",
      "1505883 2023-01-01 00:00:40  99.077509\n",
      "1189161 2023-01-01 00:01:09  89.889006\n",
      "675516  2023-01-01 00:01:09  74.036326\n",
      "1479634 2023-01-01 00:01:12  74.036326\n",
      "479475  2023-01-01 00:01:15  23.710173\n",
      "458507  2023-01-01 00:01:28  49.506011\n",
      "81368   2023-01-01 00:01:48  45.072832\n",
      "831735  2023-01-01 00:01:56  99.513676\n",
      "881993  2023-01-01 00:02:20  13.229567\n",
      "519034  2023-01-01 00:02:29  55.659613\n",
      "289323  2023-01-01 00:02:30  55.659613\n",
      "1477338 2023-01-01 00:02:33  30.082095\n",
      "633901  2023-01-01 00:02:58  36.469575\n",
      "1464963 2023-01-01 00:03:25  48.475435\n",
      "459933  2023-01-01 00:03:33  28.004191\n",
      "641622  2023-01-01 00:03:44  69.251195\n",
      "1069974 2023-01-01 00:03:45  54.343220\n",
      "1686915 2023-01-01 00:03:56  38.016834\n",
      "273913  2023-01-01 00:04:04  56.462565\n",
      "1518030 2023-01-01 00:04:26   5.596316\n",
      "1660544 2023-01-01 00:04:28  41.307443\n"
     ]
    }
   ],
   "source": [
    "# Load the dataset\n",
    "data = pd.read_csv('vmCloud_data.csv', parse_dates=['timestamp'])\n",
    "\n",
    "# Sort data by timestamp\n",
    "data.sort_values('timestamp', inplace=True)\n",
    "\n",
    "# Handle missing values in 'cpu_usage'\n",
    "data['cpu_usage'].ffill(inplace=True)  # Using forward fill directly to handle missing values\n",
    "\n",
    "# Display only 'timestamp' and 'cpu_usage' columns in a table\n",
    "print(data[['timestamp', 'cpu_usage']].head(25))  # display 25 rows"
   ]
  },
  {
   "cell_type": "code",
   "execution_count": 29,
   "id": "b20f19e5-6436-4516-bdd4-ca28b4da74f6",
   "metadata": {},
   "outputs": [],
   "source": [
    "# Extract only the 'cpu_usage' as required for the LSTM model\n",
    "cpu_usage_data = data[['timestamp', 'cpu_usage']].set_index('timestamp')"
   ]
  },
  {
   "cell_type": "code",
   "execution_count": 30,
   "id": "e73c0417-cf16-4eca-a531-2699d1c6d113",
   "metadata": {},
   "outputs": [],
   "source": [
    "# Split the data into training and testing sets\n",
    "train_size = int(len(cpu_usage_data) * 0.8)\n",
    "train_data, test_data = cpu_usage_data[:train_size], cpu_usage_data[train_size:]"
   ]
  },
  {
   "cell_type": "code",
   "execution_count": 31,
   "id": "58da92ba-5992-4e4a-a97b-64c2c73134c0",
   "metadata": {},
   "outputs": [],
   "source": [
    "# Prepare the data for LSTM\n",
    "scaler = MinMaxScaler()\n",
    "scaled_train_data = scaler.fit_transform(train_data)\n",
    "scaled_test_data = scaler.transform(test_data)"
   ]
  },
  {
   "cell_type": "code",
   "execution_count": 32,
   "id": "004e26e4-45d3-497a-a6cb-81cda3f62e66",
   "metadata": {},
   "outputs": [],
   "source": [
    "# Create input and output sequences\n",
    "def create_sequences(data, lookback):\n",
    "    X, y = [], []\n",
    "    for i in range(len(data) - lookback):\n",
    "        X.append(data[i:(i + lookback), 0])\n",
    "        y.append(data[i + lookback, 0])\n",
    "    return np.array(X), np.array(y)\n",
    "\n",
    "lookback = 3  # Number of previous time steps to use as input variables\n",
    "X_train, y_train = create_sequences(scaled_train_data, lookback)\n",
    "X_test, y_test = create_sequences(scaled_test_data, lookback)"
   ]
  },
  {
   "cell_type": "code",
   "execution_count": 33,
   "id": "32777938-5d02-43f1-85d4-63bf25937207",
   "metadata": {},
   "outputs": [],
   "source": [
    "# Reshape input data for LSTM\n",
    "X_train = np.reshape(X_train, (X_train.shape[0], X_train.shape[1], 1))\n",
    "X_test = np.reshape(X_test, (X_test.shape[0], X_test.shape[1], 1))"
   ]
  },
  {
   "cell_type": "code",
   "execution_count": 34,
   "id": "8238af12-c126-4336-8aac-2ff809948c1f",
   "metadata": {},
   "outputs": [
    {
     "name": "stderr",
     "output_type": "stream",
     "text": [
      "C:\\Users\\KADOU\\anaconda3\\Lib\\site-packages\\keras\\src\\layers\\rnn\\rnn.py:204: UserWarning: Do not pass an `input_shape`/`input_dim` argument to a layer. When using Sequential models, prefer using an `Input(shape)` object as the first layer in the model instead.\n",
      "  super().__init__(**kwargs)\n"
     ]
    }
   ],
   "source": [
    "# Build the LSTM model\n",
    "model = Sequential()\n",
    "model.add(LSTM(units=50, return_sequences=True, input_shape=(lookback, 1)))\n",
    "model.add(LSTM(units=50))\n",
    "model.add(Dense(1))"
   ]
  },
  {
   "cell_type": "code",
   "execution_count": 35,
   "id": "4435d426-98d0-43f4-a339-ee85dd29d9fd",
   "metadata": {},
   "outputs": [
    {
     "name": "stdout",
     "output_type": "stream",
     "text": [
      "Epoch 1/10\n",
      "\u001b[1m1599997/1599997\u001b[0m \u001b[32m━━━━━━━━━━━━━━━━━━━━\u001b[0m\u001b[37m\u001b[0m \u001b[1m2163s\u001b[0m 1ms/step - loss: 0.0830\n",
      "Epoch 2/10\n",
      "\u001b[1m1599997/1599997\u001b[0m \u001b[32m━━━━━━━━━━━━━━━━━━━━\u001b[0m\u001b[37m\u001b[0m \u001b[1m2185s\u001b[0m 1ms/step - loss: 0.0827\n",
      "Epoch 3/10\n",
      "\u001b[1m1599997/1599997\u001b[0m \u001b[32m━━━━━━━━━━━━━━━━━━━━\u001b[0m\u001b[37m\u001b[0m \u001b[1m2204s\u001b[0m 1ms/step - loss: 0.0827\n",
      "Epoch 4/10\n",
      "\u001b[1m1599997/1599997\u001b[0m \u001b[32m━━━━━━━━━━━━━━━━━━━━\u001b[0m\u001b[37m\u001b[0m \u001b[1m2230s\u001b[0m 1ms/step - loss: 0.0826\n",
      "Epoch 5/10\n",
      "\u001b[1m1599997/1599997\u001b[0m \u001b[32m━━━━━━━━━━━━━━━━━━━━\u001b[0m\u001b[37m\u001b[0m \u001b[1m2303s\u001b[0m 1ms/step - loss: 0.0827\n",
      "Epoch 6/10\n",
      "\u001b[1m1599997/1599997\u001b[0m \u001b[32m━━━━━━━━━━━━━━━━━━━━\u001b[0m\u001b[37m\u001b[0m \u001b[1m2327s\u001b[0m 1ms/step - loss: 0.0826\n",
      "Epoch 7/10\n",
      "\u001b[1m1599997/1599997\u001b[0m \u001b[32m━━━━━━━━━━━━━━━━━━━━\u001b[0m\u001b[37m\u001b[0m \u001b[1m2323s\u001b[0m 1ms/step - loss: 0.0826\n",
      "Epoch 8/10\n",
      "\u001b[1m1599997/1599997\u001b[0m \u001b[32m━━━━━━━━━━━━━━━━━━━━\u001b[0m\u001b[37m\u001b[0m \u001b[1m2319s\u001b[0m 1ms/step - loss: 0.0825\n",
      "Epoch 9/10\n",
      "\u001b[1m1599997/1599997\u001b[0m \u001b[32m━━━━━━━━━━━━━━━━━━━━\u001b[0m\u001b[37m\u001b[0m \u001b[1m2325s\u001b[0m 1ms/step - loss: 0.0827\n",
      "Epoch 10/10\n",
      "\u001b[1m1599997/1599997\u001b[0m \u001b[32m━━━━━━━━━━━━━━━━━━━━\u001b[0m\u001b[37m\u001b[0m \u001b[1m2322s\u001b[0m 1ms/step - loss: 0.0827\n"
     ]
    },
    {
     "data": {
      "text/plain": [
       "<keras.src.callbacks.history.History at 0x28390ae3cd0>"
      ]
     },
     "execution_count": 35,
     "metadata": {},
     "output_type": "execute_result"
    }
   ],
   "source": [
    "# Compile and fit the model\n",
    "model.compile(loss='mean_squared_error', optimizer='adam')\n",
    "model.fit(X_train, y_train, epochs=10, batch_size=1, verbose=1)"
   ]
  },
  {
   "cell_type": "code",
   "execution_count": 36,
   "id": "3417e9d0-8ac1-4ca7-8009-8f64d1425b89",
   "metadata": {},
   "outputs": [
    {
     "name": "stdout",
     "output_type": "stream",
     "text": [
      "Train MSE: 0.083\n",
      "Test MSE: 0.083\n"
     ]
    }
   ],
   "source": [
    "# Evaluate the model\n",
    "train_score = model.evaluate(X_train, y_train, verbose=0)\n",
    "test_score = model.evaluate(X_test, y_test, verbose=0)\n",
    "print('Train MSE: %.3f' % train_score)\n",
    "print('Test MSE: %.3f' % test_score)"
   ]
  },
  {
   "cell_type": "code",
   "execution_count": 37,
   "id": "2ce3e470-aad9-4ac9-a093-5fb1020be0d1",
   "metadata": {},
   "outputs": [
    {
     "name": "stdout",
     "output_type": "stream",
     "text": [
      "\u001b[1m12500/12500\u001b[0m \u001b[32m━━━━━━━━━━━━━━━━━━━━\u001b[0m\u001b[37m\u001b[0m \u001b[1m11s\u001b[0m 858us/step\n",
      "Precision: 50.18%\n"
     ]
    }
   ],
   "source": [
    "# Make predictions\n",
    "y_pred = model.predict(X_test)\n",
    "\n",
    "# Inverse transform the predictions and actual values\n",
    "y_pred = scaler.inverse_transform(y_pred)\n",
    "y_test = scaler.inverse_transform(y_test.reshape(-1, 1))\n",
    "\n",
    "# Calculate precision\n",
    "precision = 100 - (np.mean(np.abs(y_pred - y_test)) / np.mean(y_test)) * 100\n",
    "print('Precision: %.2f%%' % precision)"
   ]
  },
  {
   "cell_type": "code",
   "execution_count": 38,
   "id": "c80698fa-2ddf-42a0-a878-c251feaa3c9f",
   "metadata": {},
   "outputs": [
    {
     "data": {
      "image/png": "[encoded data removed]",
      "text/plain": [
       "<Figure size 1200x600 with 1 Axes>"
      ]
     },
     "metadata": {},
     "output_type": "display_data"
    }
   ],
   "source": [
    "# Visualize the results\n",
    "plt.figure(figsize=(12, 6))\n",
    "plt.plot(y_test, label='Actual')\n",
    "plt.plot(y_pred, label='Predicted')\n",
    "plt.xlabel('Time')\n",
    "plt.ylabel('CPU Usage')\n",
    "plt.title('Actual vs. Predicted CPU Usage')\n",
    "plt.legend()\n",
    "plt.show()"
   ]
  },
  {
   "cell_type": "code",
   "execution_count": null,
   "id": "4547694b-ec0b-4a03-a589-6fed418f7d28",
   "metadata": {},
   "outputs": [],
   "source": []
  }
 ],
 "metadata": {
  "kernelspec": {
   "display_name": "Python 3 (ipykernel)",
   "language": "python",
   "name": "python3"
  },
  "language_info": {
   "codemirror_mode": {
    "name": "ipython",
    "version": 3
   },
   "file_extension": ".py",
   "mimetype": "text/x-python",
   "name": "python",
   "nbconvert_exporter": "python",
   "pygments_lexer": "ipython3",
   "version": "3.11.7"
  }
 },
 "nbformat": 4,
 "nbformat_minor": 5
}
